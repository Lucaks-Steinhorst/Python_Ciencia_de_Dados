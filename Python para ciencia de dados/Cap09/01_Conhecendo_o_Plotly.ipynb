{
 "cells": [
  {
   "cell_type": "markdown",
   "metadata": {},
   "source": [
    "___\n",
    "# Capítulo 9 - Visualização de dados com Plotly\n",
    "## Seção 1 - Conhecendo o Plotly\n",
    "___\n",
    "### Configurando o Plotly dentro do Jupyter"
   ]
  },
  {
   "cell_type": "code",
   "execution_count": 1,
   "metadata": {
    "scrolled": true
   },
   "outputs": [
    {
     "name": "stdout",
     "output_type": "stream",
     "text": [
      "Collecting cufflinks\n",
      "  Downloading cufflinks-0.17.3.tar.gz (81 kB)\n",
      "Requirement already satisfied: numpy>=1.9.2 in c:\\users\\lucas\\anaconda3\\lib\\site-packages (from cufflinks) (1.20.3)\n",
      "Requirement already satisfied: pandas>=0.19.2 in c:\\users\\lucas\\anaconda3\\lib\\site-packages (from cufflinks) (1.3.2)\n",
      "Collecting plotly>=4.1.1\n",
      "  Downloading plotly-5.4.0-py2.py3-none-any.whl (25.3 MB)\n",
      "Requirement already satisfied: six>=1.9.0 in c:\\users\\lucas\\anaconda3\\lib\\site-packages (from cufflinks) (1.16.0)\n",
      "Collecting colorlover>=0.2.1\n",
      "  Downloading colorlover-0.3.0-py3-none-any.whl (8.9 kB)\n",
      "Requirement already satisfied: setuptools>=34.4.1 in c:\\users\\lucas\\anaconda3\\lib\\site-packages (from cufflinks) (49.2.1)\n",
      "Requirement already satisfied: ipython>=5.3.0 in c:\\users\\lucas\\anaconda3\\lib\\site-packages (from cufflinks) (7.26.0)\n",
      "Requirement already satisfied: ipywidgets>=7.0.0 in c:\\users\\lucas\\anaconda3\\lib\\site-packages (from cufflinks) (7.6.3)\n",
      "Requirement already satisfied: pickleshare in c:\\users\\lucas\\anaconda3\\lib\\site-packages (from ipython>=5.3.0->cufflinks) (0.7.5)\n",
      "Requirement already satisfied: matplotlib-inline in c:\\users\\lucas\\anaconda3\\lib\\site-packages (from ipython>=5.3.0->cufflinks) (0.1.2)\n",
      "Requirement already satisfied: prompt-toolkit!=3.0.0,!=3.0.1,<3.1.0,>=2.0.0 in c:\\users\\lucas\\anaconda3\\lib\\site-packages (from ipython>=5.3.0->cufflinks) (3.0.17)\n",
      "Requirement already satisfied: jedi>=0.16 in c:\\users\\lucas\\anaconda3\\lib\\site-packages (from ipython>=5.3.0->cufflinks) (0.17.2)\n",
      "Requirement already satisfied: traitlets>=4.2 in c:\\users\\lucas\\anaconda3\\lib\\site-packages (from ipython>=5.3.0->cufflinks) (5.0.5)\n",
      "Requirement already satisfied: pygments in c:\\users\\lucas\\anaconda3\\lib\\site-packages (from ipython>=5.3.0->cufflinks) (2.10.0)\n",
      "Requirement already satisfied: colorama in c:\\users\\lucas\\anaconda3\\lib\\site-packages (from ipython>=5.3.0->cufflinks) (0.4.4)\n",
      "Requirement already satisfied: backcall in c:\\users\\lucas\\anaconda3\\lib\\site-packages (from ipython>=5.3.0->cufflinks) (0.2.0)\n",
      "Requirement already satisfied: decorator in c:\\users\\lucas\\anaconda3\\lib\\site-packages (from ipython>=5.3.0->cufflinks) (5.0.9)\n",
      "Requirement already satisfied: jupyterlab-widgets>=1.0.0 in c:\\users\\lucas\\anaconda3\\lib\\site-packages (from ipywidgets>=7.0.0->cufflinks) (1.0.0)\n",
      "Requirement already satisfied: nbformat>=4.2.0 in c:\\users\\lucas\\anaconda3\\lib\\site-packages (from ipywidgets>=7.0.0->cufflinks) (5.1.3)\n",
      "Requirement already satisfied: ipykernel>=4.5.1 in c:\\users\\lucas\\anaconda3\\lib\\site-packages (from ipywidgets>=7.0.0->cufflinks) (5.3.4)\n",
      "Requirement already satisfied: widgetsnbextension~=3.5.0 in c:\\users\\lucas\\anaconda3\\lib\\site-packages (from ipywidgets>=7.0.0->cufflinks) (3.5.1)\n",
      "Requirement already satisfied: tornado>=4.2 in c:\\users\\lucas\\anaconda3\\lib\\site-packages (from ipykernel>=4.5.1->ipywidgets>=7.0.0->cufflinks) (6.1)\n",
      "Requirement already satisfied: jupyter-client in c:\\users\\lucas\\anaconda3\\lib\\site-packages (from ipykernel>=4.5.1->ipywidgets>=7.0.0->cufflinks) (6.1.12)\n",
      "Requirement already satisfied: parso<0.8.0,>=0.7.0 in c:\\users\\lucas\\anaconda3\\lib\\site-packages (from jedi>=0.16->ipython>=5.3.0->cufflinks) (0.7.0)\n",
      "Requirement already satisfied: ipython-genutils in c:\\users\\lucas\\anaconda3\\lib\\site-packages (from nbformat>=4.2.0->ipywidgets>=7.0.0->cufflinks) (0.2.0)\n",
      "Requirement already satisfied: jupyter-core in c:\\users\\lucas\\anaconda3\\lib\\site-packages (from nbformat>=4.2.0->ipywidgets>=7.0.0->cufflinks) (4.7.1)\n",
      "Requirement already satisfied: jsonschema!=2.5.0,>=2.4 in c:\\users\\lucas\\anaconda3\\lib\\site-packages (from nbformat>=4.2.0->ipywidgets>=7.0.0->cufflinks) (3.2.0)\n",
      "Requirement already satisfied: attrs>=17.4.0 in c:\\users\\lucas\\anaconda3\\lib\\site-packages (from jsonschema!=2.5.0,>=2.4->nbformat>=4.2.0->ipywidgets>=7.0.0->cufflinks) (21.2.0)\n",
      "Requirement already satisfied: pyrsistent>=0.14.0 in c:\\users\\lucas\\anaconda3\\lib\\site-packages (from jsonschema!=2.5.0,>=2.4->nbformat>=4.2.0->ipywidgets>=7.0.0->cufflinks) (0.17.3)\n",
      "Requirement already satisfied: pytz>=2017.3 in c:\\users\\lucas\\anaconda3\\lib\\site-packages (from pandas>=0.19.2->cufflinks) (2021.1)\n",
      "Requirement already satisfied: python-dateutil>=2.7.3 in c:\\users\\lucas\\anaconda3\\lib\\site-packages (from pandas>=0.19.2->cufflinks) (2.8.2)\n",
      "Collecting tenacity>=6.2.0\n",
      "  Downloading tenacity-8.0.1-py3-none-any.whl (24 kB)\n",
      "Requirement already satisfied: wcwidth in c:\\users\\lucas\\anaconda3\\lib\\site-packages (from prompt-toolkit!=3.0.0,!=3.0.1,<3.1.0,>=2.0.0->ipython>=5.3.0->cufflinks) (0.2.5)\n",
      "Requirement already satisfied: notebook>=4.4.1 in c:\\users\\lucas\\anaconda3\\lib\\site-packages (from widgetsnbextension~=3.5.0->ipywidgets>=7.0.0->cufflinks) (6.4.3)\n",
      "Requirement already satisfied: jinja2 in c:\\users\\lucas\\anaconda3\\lib\\site-packages (from notebook>=4.4.1->widgetsnbextension~=3.5.0->ipywidgets>=7.0.0->cufflinks) (2.11.3)\n",
      "Requirement already satisfied: pyzmq>=17 in c:\\users\\lucas\\anaconda3\\lib\\site-packages (from notebook>=4.4.1->widgetsnbextension~=3.5.0->ipywidgets>=7.0.0->cufflinks) (22.2.1)\n",
      "Requirement already satisfied: Send2Trash>=1.5.0 in c:\\users\\lucas\\anaconda3\\lib\\site-packages (from notebook>=4.4.1->widgetsnbextension~=3.5.0->ipywidgets>=7.0.0->cufflinks) (1.5.0)\n",
      "Requirement already satisfied: prometheus-client in c:\\users\\lucas\\anaconda3\\lib\\site-packages (from notebook>=4.4.1->widgetsnbextension~=3.5.0->ipywidgets>=7.0.0->cufflinks) (0.11.0)\n",
      "Requirement already satisfied: terminado>=0.8.3 in c:\\users\\lucas\\anaconda3\\lib\\site-packages (from notebook>=4.4.1->widgetsnbextension~=3.5.0->ipywidgets>=7.0.0->cufflinks) (0.9.4)\n",
      "Requirement already satisfied: nbconvert in c:\\users\\lucas\\anaconda3\\lib\\site-packages (from notebook>=4.4.1->widgetsnbextension~=3.5.0->ipywidgets>=7.0.0->cufflinks) (6.1.0)\n",
      "Requirement already satisfied: argon2-cffi in c:\\users\\lucas\\anaconda3\\lib\\site-packages (from notebook>=4.4.1->widgetsnbextension~=3.5.0->ipywidgets>=7.0.0->cufflinks) (20.1.0)\n",
      "Requirement already satisfied: pywin32>=1.0 in c:\\users\\lucas\\anaconda3\\lib\\site-packages (from jupyter-core->nbformat>=4.2.0->ipywidgets>=7.0.0->cufflinks) (228)\n",
      "Requirement already satisfied: pywinpty>=0.5 in c:\\users\\lucas\\anaconda3\\lib\\site-packages (from terminado>=0.8.3->notebook>=4.4.1->widgetsnbextension~=3.5.0->ipywidgets>=7.0.0->cufflinks) (0.5.7)\n",
      "Requirement already satisfied: cffi>=1.0.0 in c:\\users\\lucas\\anaconda3\\lib\\site-packages (from argon2-cffi->notebook>=4.4.1->widgetsnbextension~=3.5.0->ipywidgets>=7.0.0->cufflinks) (1.14.6)\n",
      "Requirement already satisfied: pycparser in c:\\users\\lucas\\anaconda3\\lib\\site-packages (from cffi>=1.0.0->argon2-cffi->notebook>=4.4.1->widgetsnbextension~=3.5.0->ipywidgets>=7.0.0->cufflinks) (2.20)\n",
      "Requirement already satisfied: MarkupSafe>=0.23 in c:\\users\\lucas\\anaconda3\\lib\\site-packages (from jinja2->notebook>=4.4.1->widgetsnbextension~=3.5.0->ipywidgets>=7.0.0->cufflinks) (1.1.1)\n",
      "Requirement already satisfied: entrypoints>=0.2.2 in c:\\users\\lucas\\anaconda3\\lib\\site-packages (from nbconvert->notebook>=4.4.1->widgetsnbextension~=3.5.0->ipywidgets>=7.0.0->cufflinks) (0.3)\n",
      "Requirement already satisfied: pandocfilters>=1.4.1 in c:\\users\\lucas\\anaconda3\\lib\\site-packages (from nbconvert->notebook>=4.4.1->widgetsnbextension~=3.5.0->ipywidgets>=7.0.0->cufflinks) (1.4.3)\n",
      "Requirement already satisfied: nbclient<0.6.0,>=0.5.0 in c:\\users\\lucas\\anaconda3\\lib\\site-packages (from nbconvert->notebook>=4.4.1->widgetsnbextension~=3.5.0->ipywidgets>=7.0.0->cufflinks) (0.5.3)\n",
      "Requirement already satisfied: bleach in c:\\users\\lucas\\anaconda3\\lib\\site-packages (from nbconvert->notebook>=4.4.1->widgetsnbextension~=3.5.0->ipywidgets>=7.0.0->cufflinks) (4.0.0)\n",
      "Requirement already satisfied: testpath in c:\\users\\lucas\\anaconda3\\lib\\site-packages (from nbconvert->notebook>=4.4.1->widgetsnbextension~=3.5.0->ipywidgets>=7.0.0->cufflinks) (0.5.0)\n",
      "Requirement already satisfied: defusedxml in c:\\users\\lucas\\anaconda3\\lib\\site-packages (from nbconvert->notebook>=4.4.1->widgetsnbextension~=3.5.0->ipywidgets>=7.0.0->cufflinks) (0.7.1)\n",
      "Requirement already satisfied: jupyterlab-pygments in c:\\users\\lucas\\anaconda3\\lib\\site-packages (from nbconvert->notebook>=4.4.1->widgetsnbextension~=3.5.0->ipywidgets>=7.0.0->cufflinks) (0.1.2)\n",
      "Requirement already satisfied: mistune<2,>=0.8.1 in c:\\users\\lucas\\anaconda3\\lib\\site-packages (from nbconvert->notebook>=4.4.1->widgetsnbextension~=3.5.0->ipywidgets>=7.0.0->cufflinks) (0.8.4)\n",
      "Requirement already satisfied: nest-asyncio in c:\\users\\lucas\\anaconda3\\lib\\site-packages (from nbclient<0.6.0,>=0.5.0->nbconvert->notebook>=4.4.1->widgetsnbextension~=3.5.0->ipywidgets>=7.0.0->cufflinks) (1.5.1)\n",
      "Requirement already satisfied: async-generator in c:\\users\\lucas\\anaconda3\\lib\\site-packages (from nbclient<0.6.0,>=0.5.0->nbconvert->notebook>=4.4.1->widgetsnbextension~=3.5.0->ipywidgets>=7.0.0->cufflinks) (1.10)\n",
      "Requirement already satisfied: packaging in c:\\users\\lucas\\anaconda3\\lib\\site-packages (from bleach->nbconvert->notebook>=4.4.1->widgetsnbextension~=3.5.0->ipywidgets>=7.0.0->cufflinks) (21.0)\n",
      "Requirement already satisfied: webencodings in c:\\users\\lucas\\anaconda3\\lib\\site-packages (from bleach->nbconvert->notebook>=4.4.1->widgetsnbextension~=3.5.0->ipywidgets>=7.0.0->cufflinks) (0.5.1)\n",
      "Requirement already satisfied: pyparsing>=2.0.2 in c:\\users\\lucas\\anaconda3\\lib\\site-packages (from packaging->bleach->nbconvert->notebook>=4.4.1->widgetsnbextension~=3.5.0->ipywidgets>=7.0.0->cufflinks) (2.4.7)\n",
      "Building wheels for collected packages: cufflinks\n",
      "  Building wheel for cufflinks (setup.py): started\n",
      "  Building wheel for cufflinks (setup.py): finished with status 'done'\n",
      "  Created wheel for cufflinks: filename=cufflinks-0.17.3-py3-none-any.whl size=68722 sha256=e2293b3f31bc0e556fbd49066b99bf20d6bc0c75fc6dcd91b2ca19122a8e997f\n",
      "  Stored in directory: c:\\users\\lucas\\appdata\\local\\pip\\cache\\wheels\\6b\\76\\62\\6da97734911ffcbdd559fd1a3f28526321f0ae699182a23866\n",
      "Successfully built cufflinks\n",
      "Installing collected packages: tenacity, plotly, colorlover, cufflinks\n",
      "Successfully installed colorlover-0.3.0 cufflinks-0.17.3 plotly-5.4.0 tenacity-8.0.1\n"
     ]
    }
   ],
   "source": [
    "! pip install cufflinks"
   ]
  },
  {
   "cell_type": "code",
   "execution_count": 2,
   "metadata": {
    "scrolled": true
   },
   "outputs": [],
   "source": [
    "import pandas as pd\n",
    "\n",
    "import cufflinks as cf\n",
    "\n",
    "import plotly.tools as tls"
   ]
  },
  {
   "cell_type": "code",
   "execution_count": 3,
   "metadata": {
    "collapsed": true
   },
   "outputs": [],
   "source": [
    "tls.set_credentials_file(username='jtemporal', api_key='44QHB1wF7FdepdHM7AIx')\n",
    "\n",
    "caminho = 'C:/Users/Lucas/Documents/linkedIn/Cursos/Python para ciencia de dados/dados/mtcars.csv'\n",
    "carros = pd.read_csv(caminho)\n",
    "carros.columns = ['car_names','mpg','cyl','disp', 'hp', 'drat', 'wt', 'qsec', 'vs', 'am', 'gear', 'carb']\n",
    "\n",
    "df = carros[['cyl', 'wt','mpg']]"
   ]
  },
  {
   "cell_type": "markdown",
   "metadata": {},
   "source": [
    "#### Criando um grafico de linhas com DataFrame Pandas "
   ]
  },
  {
   "cell_type": "code",
   "execution_count": 4,
   "metadata": {},
   "outputs": [],
   "source": [
    "layout = dict(title='Gráfico de um DataFrame Pandas',\n",
    "              xaxis=dict(title='eixo-x'),\n",
    "              yaxis=dict(title='eixo-y'))"
   ]
  },
  {
   "cell_type": "code",
   "execution_count": 5,
   "metadata": {},
   "outputs": [
    {
     "data": {
      "text/html": [
       "<iframe id=\"igraph\" scrolling=\"no\" style=\"border:none;\" seamless=\"seamless\" src=\"https://plot.ly/~jtemporal/2.embed\" height=\"525px\" width=\"100%\"></iframe>"
      ],
      "text/plain": [
       "<chart_studio.tools.PlotlyDisplay object>"
      ]
     },
     "execution_count": 5,
     "metadata": {},
     "output_type": "execute_result"
    }
   ],
   "source": [
    "df.iplot(filename='grafico-de-linha', layout=layout)"
   ]
  },
  {
   "cell_type": "code",
   "execution_count": null,
   "metadata": {
    "collapsed": true
   },
   "outputs": [],
   "source": []
  }
 ],
 "metadata": {
  "anaconda-cloud": {},
  "kernelspec": {
   "display_name": "Python 3",
   "language": "python",
   "name": "python3"
  },
  "language_info": {
   "codemirror_mode": {
    "name": "ipython",
    "version": 3
   },
   "file_extension": ".py",
   "mimetype": "text/x-python",
   "name": "python",
   "nbconvert_exporter": "python",
   "pygments_lexer": "ipython3",
   "version": "3.8.8"
  }
 },
 "nbformat": 4,
 "nbformat_minor": 2
}
