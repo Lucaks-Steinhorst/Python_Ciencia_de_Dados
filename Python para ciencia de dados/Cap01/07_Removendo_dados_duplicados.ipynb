{
 "cells": [
  {
   "cell_type": "markdown",
   "metadata": {},
   "source": [
    "___\n",
    "# Capítulo 1 - Manipulação de dados: Básico\n",
    "## Seção 7 - Removendo dados duplicados\n",
    "___"
   ]
  },
  {
   "cell_type": "code",
   "execution_count": 1,
   "metadata": {},
   "outputs": [],
   "source": [
    "import numpy as np\n",
    "import pandas as pd\n",
    "\n",
    "from pandas import DataFrame"
   ]
  },
  {
   "cell_type": "code",
   "execution_count": null,
   "metadata": {},
   "outputs": [],
   "source": [
    "dados = {\n",
    "    'coluna 1': [1, 1, 2, 2, 3, 3, 3],\n",
    "    'coluna 2': ['a', 'a', 'b', 'b', 'c', 'c', 'c'],\n",
    "    'coluna 3': ['A', 'A', 'B', 'B', 'C', 'C', 'C'],\n",
    "}\n",
    "\n",
    "df = DataFrame(dados)\n",
    "df"
   ]
  },
  {
   "cell_type": "markdown",
   "metadata": {},
   "source": [
    "### Removendo dados duplicados\n",
    "\n",
    "#### nome_do_objeto.duplicated()\n",
    "\n",
    "♔┈♔┈♔┈( O QUE ISSO FAZ )┈♔┈♔┈♔\n",
    "\n",
    "O método .duplicated() confere se cada linha é uma duplicata de uma linha anteriore cria uma Serie de valores True ou False indicando se a linha é uma linha duplicada ou nao no dataframe"
   ]
  },
  {
   "cell_type": "code",
   "execution_count": null,
   "metadata": {},
   "outputs": [],
   "source": [
    "df.duplicated()"
   ]
  },
  {
   "cell_type": "markdown",
   "metadata": {},
   "source": [
    "#### nome_do_objeto.drop_duplicates()\n",
    "\n",
    "♔┈♔┈♔┈( O QUE ISSO FAZ )┈♔┈♔┈♔\n",
    "\n",
    "Para remover todas as linhas repetidas, usamos o método `.drop_duplicates()`. Lembre-se para alterar o objeto ao invés de criar um novo, devemos usar o parâmetro `inplace`."
   ]
  },
  {
   "cell_type": "code",
   "execution_count": null,
   "metadata": {},
   "outputs": [],
   "source": [
    "df.drop_duplicates()"
   ]
  },
  {
   "cell_type": "code",
   "execution_count": null,
   "metadata": {},
   "outputs": [],
   "source": [
    "df"
   ]
  },
  {
   "cell_type": "markdown",
   "metadata": {},
   "source": [
    "#### nome_do_objeto.drop_duplicates(['nome_da_coluna'])\n",
    "\n",
    "♔┈♔┈♔┈( O QUE ISSO FAZ )┈♔┈♔┈♔\n",
    "\n",
    "\n",
    "Para remover linhas repetidas considerando apenas uma columna, passamos para o método `.drop_duplicates()` uma lista com o nome da coluna que ele deverá considerar."
   ]
  },
  {
   "cell_type": "code",
   "execution_count": null,
   "metadata": {},
   "outputs": [],
   "source": [
    "dados = {\n",
    "    'coluna 1': [1, 1, 2, 2, 3, 3, 3],\n",
    "    'coluna 2': ['a', 'a', 'b', 'b', 'c', 'c', 'c'],\n",
    "    'coluna 3': ['D', 'A', 'B', 'B', 'C', 'C', 'C'],\n",
    "}\n",
    "\n",
    "df = DataFrame(dados)\n",
    "df"
   ]
  },
  {
   "cell_type": "code",
   "execution_count": null,
   "metadata": {},
   "outputs": [],
   "source": [
    "df.drop_duplicates(['coluna 3'])"
   ]
  },
  {
   "cell_type": "code",
   "execution_count": null,
   "metadata": {
    "collapsed": true
   },
   "outputs": [],
   "source": []
  }
 ],
 "metadata": {
  "anaconda-cloud": {},
  "kernelspec": {
   "display_name": "Python 3",
   "language": "python",
   "name": "python3"
  },
  "language_info": {
   "codemirror_mode": {
    "name": "ipython",
    "version": 3
   },
   "file_extension": ".py",
   "mimetype": "text/x-python",
   "name": "python",
   "nbconvert_exporter": "python",
   "pygments_lexer": "ipython3",
   "version": "3.8.8"
  }
 },
 "nbformat": 4,
 "nbformat_minor": 2
}
